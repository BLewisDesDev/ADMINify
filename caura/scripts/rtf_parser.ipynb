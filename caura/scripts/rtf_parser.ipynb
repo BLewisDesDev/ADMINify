{
 "cells": [
  {
   "cell_type": "code",
   "execution_count": 67,
   "metadata": {},
   "outputs": [],
   "source": [
    "import re\n",
    "import os\n",
    "import pandas as pd\n",
    "from typing import Dict, List, Pattern\n",
    "\n",
    "# Define data patterns as a dictionary of named patterns\n",
    "PATTERNS: Dict[str, str] = {\n",
    "    'ACN': r'Aged Care ID}{\\\\f3\\\\fs24\\\\cf1 : \\s*(AC\\d{8})',\n",
    "    'GivenName': r'\\\\header.*?\\\\b\\\\cf1 (\\w+)\\s+(\\w+)\\}',\n",
    "    'FamilyName': r'\\\\header.*?\\\\b\\\\cf1 (\\w+)\\s+(\\w+)\\}',\n",
    "    'BirthDate': r'Date of Birth\\}\\{\\\\f3\\\\fs24\\\\cf1 : \\}\\{\\\\f0\\\\fs24\\\\cf1 \\s*(\\d{2}/\\d{2}/\\d{4})',\n",
    "    'other_data': r'\\\\pard\\\\intbl\\\\sl0\\\\lin108\\\\rin108 \\{\\\\f0\\\\fs22\\\\cf1 ([^}]+)\\}'\n",
    "}\n",
    "\n",
    "# Compile patterns once for better performance\n",
    "COMPILED_PATTERNS: Dict[str, Pattern] = {\n",
    "    name: re.compile(pattern) for name, pattern in PATTERNS.items()\n",
    "}\n",
    "\n",
    "def extract_matches(content: str, pattern: Pattern) -> List[str]:\n",
    "    \"\"\"Extract all groups from pattern matches in content.\"\"\"\n",
    "    matches = pattern.finditer(content)\n",
    "    return [group for match in matches \n",
    "            for group in match.groups()]\n",
    "\n",
    "def create_client_data(file_content: str) -> Dict[str, str]:\n",
    "    \"\"\"Create a client data dictionary from file content.\"\"\"\n",
    "    # Extract basic data using named patterns\n",
    "    acn_matches = extract_matches(file_content, COMPILED_PATTERNS['ACN'])\n",
    "    name_matches = extract_matches(file_content, COMPILED_PATTERNS['GivenName'])\n",
    "    dob_matches = extract_matches(file_content, COMPILED_PATTERNS['BirthDate'])\n",
    "    other_matches = extract_matches(file_content, COMPILED_PATTERNS['other_data'])\n",
    "\n",
    "    # Map other_matches to their respective fields\n",
    "    other_fields = {\n",
    "        'Gender': 1,\n",
    "        'Address': 4,\n",
    "        'lives_with': 5,\n",
    "        'accommodation_type': 6,\n",
    "        'home_phone': 7,\n",
    "        'mobile_phone': 8,\n",
    "        'email': 9,\n",
    "        'country_of_birth': 13,\n",
    "        'preferred_language': 15,\n",
    "        'aboriginal_or_torres_strait_islander_origin': 20,\n",
    "        'dva_entitlement': 22\n",
    "    }\n",
    "\n",
    "    return {\n",
    "        'ACN': acn_matches[0],\n",
    "        'GivenName': name_matches[0],\n",
    "        'FamilyName': name_matches[1],\n",
    "        'BirthDate': dob_matches[0],\n",
    "        **{field: other_matches[idx] for field, idx in other_fields.items()}\n",
    "    }\n",
    "\n",
    "def process_multiple_documents(directory_path: str, output_file: str) -> None:\n",
    "    \"\"\"Process multiple RTF documents and save results to Excel.\"\"\"\n",
    "    # Process all RTF files in directory\n",
    "    client_data_list = []\n",
    "    \n",
    "    for filename in os.listdir(directory_path):\n",
    "        if not filename.endswith('.RTF'):\n",
    "            continue\n",
    "            \n",
    "        file_path = os.path.join(directory_path, filename)\n",
    "        try:\n",
    "            with open(file_path, 'r', encoding='utf-8') as file:\n",
    "                content = file.read()\n",
    "                client_data = create_client_data(content)\n",
    "                client_data_list.append(client_data)\n",
    "        except Exception as e:\n",
    "            print(f\"Error processing {filename}: {str(e)}\")\n",
    "\n",
    "    # Create DataFrame directly from list of dictionaries\n",
    "    if client_data_list:\n",
    "        df = pd.DataFrame(client_data_list)\n",
    "        df.to_excel(output_file, index=False, sheet_name='Client Data')\n",
    "        print(f\"Data successfully saved to {output_file}\")\n",
    "    else:\n",
    "        print(\"No data was processed. Check input directory and file contents.\")"
   ]
  },
  {
   "cell_type": "code",
   "execution_count": 68,
   "metadata": {},
   "outputs": [
    {
     "name": "stdout",
     "output_type": "stream",
     "text": [
      "Data successfully saved to extracted_client_data.xlsx\n"
     ]
    }
   ],
   "source": [
    "#  \n",
    "directory_path = \"/Users/byron/Desktop/Caura/scraper/client_reports/da\"\n",
    "output_file = \"extracted_client_data.xlsx\"\n",
    "process_multiple_documents(directory_path, output_file)"
   ]
  }
 ],
 "metadata": {
  "kernelspec": {
   "display_name": "base",
   "language": "python",
   "name": "python3"
  },
  "language_info": {
   "codemirror_mode": {
    "name": "ipython",
    "version": 3
   },
   "file_extension": ".py",
   "mimetype": "text/x-python",
   "name": "python",
   "nbconvert_exporter": "python",
   "pygments_lexer": "ipython3",
   "version": "3.10.6"
  }
 },
 "nbformat": 4,
 "nbformat_minor": 2
}
